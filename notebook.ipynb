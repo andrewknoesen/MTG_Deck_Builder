{
 "cells": [
  {
   "cell_type": "markdown",
   "metadata": {},
   "source": [
    "# Mox"
   ]
  },
  {
   "cell_type": "markdown",
   "metadata": {},
   "source": [
    "## Retrieve ID"
   ]
  },
  {
   "cell_type": "code",
   "execution_count": 1,
   "metadata": {},
   "outputs": [
    {
     "data": {
      "text/plain": [
       "{'cards': [{'id': 15668,\n",
       "   'name': 'Island',\n",
       "   'last_scraped': None,\n",
       "   'is_scraping': None},\n",
       "  {'id': 18626,\n",
       "   'name': 'Island of Wak-Wak',\n",
       "   'last_scraped': None,\n",
       "   'is_scraping': None},\n",
       "  {'id': 16383,\n",
       "   'name': 'Island Fish Jasconius',\n",
       "   'last_scraped': None,\n",
       "   'is_scraping': None},\n",
       "  {'id': 10977,\n",
       "   'name': 'Island Sanctuary',\n",
       "   'last_scraped': None,\n",
       "   'is_scraping': None}]}"
      ]
     },
     "execution_count": 1,
     "metadata": {},
     "output_type": "execute_result"
    }
   ],
   "source": [
    "import requests\n",
    "\n",
    "exact_card = 'Island'\n",
    "\n",
    "search_parameters = {  # Parameters for api. Key must match documents\n",
    "        \"name\": exact_card,\n",
    "    }\n",
    "\n",
    "mox_response = requests.get(\n",
    "        url=\"https://moxmonolith.com/card/search\", params=search_parameters)\n",
    "\n",
    "mox_response.json()\n"
   ]
  },
  {
   "cell_type": "code",
   "execution_count": 2,
   "metadata": {},
   "outputs": [
    {
     "data": {
      "text/plain": [
       "2"
      ]
     },
     "execution_count": 2,
     "metadata": {},
     "output_type": "execute_result"
    }
   ],
   "source": [
    "items = [\n",
    "    {\"id\": 1, \"name\": \"Beach\"},\n",
    "    {\"id\": 4, \"name\": \"Island Beach\"},\n",
    "    {\"id\": 2, \"name\": \"Island\"},\n",
    "    {\"id\": 3, \"name\": \"Mountain\"},\n",
    "    {\"id\": 5, \"name\": \"Desert\"},\n",
    "]\n",
    "\n",
    "def find_exact_item_id(item_name, items_list):\n",
    "    for item in items_list:\n",
    "        if item['name'] == item_name:\n",
    "            return item['id']\n",
    "    return None  # Return None if the exact item is not found\n",
    "\n",
    "find_exact_item_id('Island', items)"
   ]
  },
  {
   "cell_type": "markdown",
   "metadata": {},
   "source": [
    "## Retrieve Card Details"
   ]
  },
  {
   "cell_type": "code",
   "execution_count": 3,
   "metadata": {},
   "outputs": [
    {
     "data": {
      "text/plain": [
       "{'products': [{'id': 500576,\n",
       "   'name': 'Consider (Promo Pack) [Innistrad: Midnight Hunt Promos] - Near Mint',\n",
       "   'price': 4000,\n",
       "   'priceRead': 'R40.00',\n",
       "   'link': 'https://d20battleground.co.za/products/consider-promo-pack-innistrad-midnight-hunt?_pos=4&_psq=Consider%20MTG%20Single&_ss=e&_v=1.0',\n",
       "   'stock': 3,\n",
       "   'is_foil': False,\n",
       "   'last_scraped': '2024-01-03T08:30:02.000000Z',\n",
       "   'image': 'https://cdn.shopify.com/s/files/1/0440/8944/2465/products/a26f007a-7023-53b8-ad83-06313fa06a2c_261b1ca9-e2ad-4fb5-b049-ac58dc0fc878.jpg?v=1693800873',\n",
       "   'retailer_id': 13,\n",
       "   'retailer_name': 'D20Battleground'},\n",
       "  {'id': 547260,\n",
       "   'name': 'Consider (Promo Pack) [Innistrad: Midnight Hunt Promos] - Near Mint Foil',\n",
       "   'price': 11000,\n",
       "   'priceRead': 'R110.00',\n",
       "   'link': 'https://greedygold.co.za/products/consider-promo-pack-innistrad-midnight-hunt-promo-pack?_pos=2&_psq=Consider%20MTG%20Single&_ss=e&_v=1.0',\n",
       "   'stock': 1,\n",
       "   'is_foil': True,\n",
       "   'last_scraped': '2024-01-03T08:30:03.000000Z',\n",
       "   'image': 'https://cdn.shopify.com/s/files/1/0673/7562/8572/products/a26f007a-7023-53b8-ad83-06313fa06a2c_ce962606-83e9-4c59-bd5f-36e0fa1f63f9.jpg?v=1700690250',\n",
       "   'retailer_id': 26,\n",
       "   'retailer_name': 'Greedy Gold'},\n",
       "  {'id': 628537,\n",
       "   'name': 'Consider [Innistrad: Double Feature] - Near Mint',\n",
       "   'price': 3900,\n",
       "   'priceRead': 'R39.00',\n",
       "   'link': 'https://d20battleground.co.za/products/consider-innistrad-double-feature?_pos=2&_psq=Consider%20MTG%20Single&_ss=e&_v=1.0',\n",
       "   'stock': 2,\n",
       "   'is_foil': False,\n",
       "   'last_scraped': '2024-01-03T08:30:02.000000Z',\n",
       "   'image': 'https://cdn.shopify.com/s/files/1/0440/8944/2465/products/e403fc3d-6420-5f41-890b-758e878fe3fd.png?v=1693800285',\n",
       "   'retailer_id': 13,\n",
       "   'retailer_name': 'D20Battleground'},\n",
       "  {'id': 628539,\n",
       "   'name': 'Consider (Promo Pack) [Innistrad: Midnight Hunt Promos] - Near Mint',\n",
       "   'price': 4200,\n",
       "   'priceRead': 'R42.00',\n",
       "   'link': 'https://greedygold.co.za/products/consider-promo-pack-innistrad-midnight-hunt-promo-pack?_pos=2&_psq=Consider%20MTG%20Single&_ss=e&_v=1.0',\n",
       "   'stock': 2,\n",
       "   'is_foil': False,\n",
       "   'last_scraped': '2024-01-03T08:30:03.000000Z',\n",
       "   'image': 'https://cdn.shopify.com/s/files/1/0673/7562/8572/products/a26f007a-7023-53b8-ad83-06313fa06a2c_ce962606-83e9-4c59-bd5f-36e0fa1f63f9.jpg?v=1700690250',\n",
       "   'retailer_id': 26,\n",
       "   'retailer_name': 'Greedy Gold'},\n",
       "  {'id': 628649,\n",
       "   'name': 'Consider (Promo Pack) [Innistrad: Midnight Hunt Promos] - Near Mint Foil',\n",
       "   'price': 10100,\n",
       "   'priceRead': 'R101.00',\n",
       "   'link': 'https://www.swordandboard.co.za/products/consider-promo-pack-innistrad-midnight-hunt-promo-pack?_pos=1&_psq=Consider%20MTG%20Single&_ss=e&_v=1.0',\n",
       "   'stock': 1,\n",
       "   'is_foil': True,\n",
       "   'last_scraped': '2024-01-03T08:30:03.000000Z',\n",
       "   'image': 'https://cdn.shopify.com/s/files/1/0141/5256/4794/products/a26f007a-7023-53b8-ad83-06313fa06a2c_4556016e-b9e4-4b00-a8e8-06426edce1c7.jpg?v=1669142311',\n",
       "   'retailer_id': 18,\n",
       "   'retailer_name': 'Sword & Board'},\n",
       "  {'id': 660919,\n",
       "   'name': 'Consider (Promo Pack) [Innistrad: Midnight Hunt Promos] - Near Mint Foil',\n",
       "   'price': 10300,\n",
       "   'priceRead': 'R103.00',\n",
       "   'link': 'https://d20battleground.co.za/products/consider-promo-pack-innistrad-midnight-hunt?_pos=4&_psq=Consider%20MTG%20Single&_ss=e&_v=1.0',\n",
       "   'stock': 1,\n",
       "   'is_foil': True,\n",
       "   'last_scraped': '2024-01-03T08:30:02.000000Z',\n",
       "   'image': 'https://cdn.shopify.com/s/files/1/0440/8944/2465/products/a26f007a-7023-53b8-ad83-06313fa06a2c_261b1ca9-e2ad-4fb5-b049-ac58dc0fc878.jpg?v=1693800873',\n",
       "   'retailer_id': 13,\n",
       "   'retailer_name': 'D20Battleground'},\n",
       "  {'id': 709126,\n",
       "   'name': 'Consider',\n",
       "   'price': 3900,\n",
       "   'priceRead': 'R39.00',\n",
       "   'link': 'https://luckshack.co.za/index.php?route=product/product&product_id=85560',\n",
       "   'stock': 1,\n",
       "   'is_foil': False,\n",
       "   'last_scraped': '2024-01-03T08:30:02.000000Z',\n",
       "   'image': 'https://luckshack.co.za/image/cache/DBL_imgs/consider44-261x370.jpg',\n",
       "   'retailer_id': 3,\n",
       "   'retailer_name': 'Luckshack'},\n",
       "  {'id': 733688,\n",
       "   'name': 'Consider (Game Day Promo)',\n",
       "   'price': 3500,\n",
       "   'priceRead': 'R35.00',\n",
       "   'link': 'https://shop.dracoti.co.za/product/consider-game-day-promo/',\n",
       "   'stock': 3,\n",
       "   'is_foil': False,\n",
       "   'last_scraped': '2024-01-03T08:30:02.000000Z',\n",
       "   'image': 'https://shop.dracoti.co.za/wp-content/uploads/2023/04/consider-PRM.jpg',\n",
       "   'retailer_id': 11,\n",
       "   'retailer_name': 'Dracoti'},\n",
       "  {'id': 733689,\n",
       "   'name': 'Consider (Promo Pack)',\n",
       "   'price': 5700,\n",
       "   'priceRead': 'R57.00',\n",
       "   'link': 'https://shop.dracoti.co.za/product/consider-promo-pack/',\n",
       "   'stock': 3,\n",
       "   'is_foil': False,\n",
       "   'last_scraped': '2024-01-03T08:30:02.000000Z',\n",
       "   'image': 'https://shop.dracoti.co.za/wp-content/uploads/2023/06/mid-388-consider.jpg',\n",
       "   'retailer_id': 11,\n",
       "   'retailer_name': 'Dracoti'},\n",
       "  {'id': 733690,\n",
       "   'name': 'Consider (Promo Pack) (FOIL)',\n",
       "   'price': 9500,\n",
       "   'priceRead': 'R95.00',\n",
       "   'link': 'https://shop.dracoti.co.za/product/consider-promo-pack-foil/',\n",
       "   'stock': 1,\n",
       "   'is_foil': True,\n",
       "   'last_scraped': '2024-01-03T08:30:02.000000Z',\n",
       "   'image': 'https://shop.dracoti.co.za/wp-content/uploads/2023/06/mid-388-consider.jpg',\n",
       "   'retailer_id': 11,\n",
       "   'retailer_name': 'Dracoti'},\n",
       "  {'id': 736522,\n",
       "   'name': 'Consider [Innistrad: Midnight Hunt] - Near Mint Foil',\n",
       "   'price': 4100,\n",
       "   'priceRead': 'R41.00',\n",
       "   'link': 'https://greedygold.co.za/products/consider-innistrad-midnight-hunt?_pos=1&_psq=Consider%20MTG%20Single&_ss=e&_v=1.0',\n",
       "   'stock': 2,\n",
       "   'is_foil': True,\n",
       "   'last_scraped': '2024-01-03T08:30:03.000000Z',\n",
       "   'image': 'https://cdn.shopify.com/s/files/1/0673/7562/8572/products/eeb83587-0cc0-53fe-ab7c-f03d40230e1f.jpg?v=1700690255',\n",
       "   'retailer_id': 26,\n",
       "   'retailer_name': 'Greedy Gold'},\n",
       "  {'id': 750455,\n",
       "   'name': 'Consider',\n",
       "   'price': 4700,\n",
       "   'priceRead': 'R47.00',\n",
       "   'link': 'https://shop.dracoti.co.za/product/consider-2/',\n",
       "   'stock': 1,\n",
       "   'is_foil': False,\n",
       "   'last_scraped': '2024-01-03T08:30:02.000000Z',\n",
       "   'image': 'https://shop.dracoti.co.za/wp-content/uploads/2022/04/consider-DBL-1.jpg',\n",
       "   'retailer_id': 11,\n",
       "   'retailer_name': 'Dracoti'},\n",
       "  {'id': 788662,\n",
       "   'name': 'Consider',\n",
       "   'price': 900,\n",
       "   'priceRead': 'R9.00',\n",
       "   'link': 'https://thestonedragon.co.za/product/consider-2/',\n",
       "   'stock': 44,\n",
       "   'is_foil': False,\n",
       "   'last_scraped': '2024-01-03T08:30:03.000000Z',\n",
       "   'image': 'https://thestonedragon.co.za/wp-content/uploads/2021/09/a211d505-4d40-4914-a9da-220770d6ddbc-1.png',\n",
       "   'retailer_id': 16,\n",
       "   'retailer_name': 'The Stone Dragon'},\n",
       "  {'id': 804702,\n",
       "   'name': 'Consider (Promo Pack) [Innistrad: Midnight Hunt Promos] - Near Mint',\n",
       "   'price': 3500,\n",
       "   'priceRead': 'R35.00',\n",
       "   'link': 'https://www.swordandboard.co.za/products/consider-promo-pack-innistrad-midnight-hunt-promo-pack?_pos=1&_psq=Consider%20MTG%20Single&_ss=e&_v=1.0',\n",
       "   'stock': 1,\n",
       "   'is_foil': False,\n",
       "   'last_scraped': '2024-01-03T08:30:03.000000Z',\n",
       "   'image': 'https://cdn.shopify.com/s/files/1/0141/5256/4794/products/a26f007a-7023-53b8-ad83-06313fa06a2c_4556016e-b9e4-4b00-a8e8-06426edce1c7.jpg?v=1669142311',\n",
       "   'retailer_id': 18,\n",
       "   'retailer_name': 'Sword & Board'},\n",
       "  {'id': 817446,\n",
       "   'name': 'Consider [Game Day 2022] - Near Mint',\n",
       "   'price': 2800,\n",
       "   'priceRead': 'R28.00',\n",
       "   'link': 'https://d20battleground.co.za/products/consider-game-day-2022-promos?_pos=1&_psq=Consider%20MTG%20Single&_ss=e&_v=1.0',\n",
       "   'stock': 1,\n",
       "   'is_foil': False,\n",
       "   'last_scraped': '2024-01-03T08:30:02.000000Z',\n",
       "   'image': 'https://cdn.shopify.com/s/files/1/0440/8944/2465/products/b22b84f380fa3a7d29fd9da4ed773cfd.png?v=1693800147',\n",
       "   'retailer_id': 13,\n",
       "   'retailer_name': 'D20Battleground'},\n",
       "  {'id': 817447,\n",
       "   'name': 'Consider [Innistrad: Midnight Hunt] - Near Mint',\n",
       "   'price': 1900,\n",
       "   'priceRead': 'R19.00',\n",
       "   'link': 'https://d20battleground.co.za/products/consider-innistrad-midnight-hunt?_pos=3&_psq=Consider%20MTG%20Single&_ss=e&_v=1.0',\n",
       "   'stock': 2,\n",
       "   'is_foil': False,\n",
       "   'last_scraped': '2024-01-03T08:30:02.000000Z',\n",
       "   'image': 'https://cdn.shopify.com/s/files/1/0440/8944/2465/products/eeb83587-0cc0-53fe-ab7c-f03d40230e1f.jpg?v=1693800873',\n",
       "   'retailer_id': 13,\n",
       "   'retailer_name': 'D20Battleground'},\n",
       "  {'id': 828063,\n",
       "   'name': 'Consider - Innistrad: Midnight Hunt',\n",
       "   'price': 1600,\n",
       "   'priceRead': 'R16.00',\n",
       "   'link': 'https://www.battlewizards.co.za/consider-innistrad-midnight-hunt/',\n",
       "   'stock': 1,\n",
       "   'is_foil': False,\n",
       "   'last_scraped': '2024-01-03T08:30:02.000000Z',\n",
       "   'image': 'https://cdn11.bigcommerce.com/s-ujecvbbdxl/images/stencil/1280x1280/products/74245/74223/a211d505-4d40-4914-a9da-220770d6ddbc__01057.1632144564.jpg?c=2',\n",
       "   'retailer_id': 5,\n",
       "   'retailer_name': 'Battle Wizards'}],\n",
       " 'card': {'id': 23033,\n",
       "  'name': 'Consider',\n",
       "  'last_scraped': '2024-01-03T08:30:08.000000Z',\n",
       "  'is_scraping': True}}"
      ]
     },
     "execution_count": 3,
     "metadata": {},
     "output_type": "execute_result"
    }
   ],
   "source": [
    "'https://moxmonolith.com/card/23033/products?'\n",
    "retailers: str = [2,3,4,6,11,13,15,16,18,19,20,21,26,34,5]\n",
    "card_id: str = 23033\n",
    "\n",
    "params = {\n",
    "    'retailers[]': retailers\n",
    "}\n",
    "\n",
    "mox_response = requests.get(\n",
    "        url=f\"https://moxmonolith.com/card/{card_id}/products\", params=params)\n",
    "\n",
    "mox_response.json()"
   ]
  },
  {
   "cell_type": "code",
   "execution_count": 4,
   "metadata": {},
   "outputs": [
    {
     "data": {
      "text/plain": [
       "17"
      ]
     },
     "execution_count": 4,
     "metadata": {},
     "output_type": "execute_result"
    }
   ],
   "source": [
    "len(mox_response.json()['products'])"
   ]
  },
  {
   "cell_type": "code",
   "execution_count": 5,
   "metadata": {},
   "outputs": [
    {
     "ename": "ModuleNotFoundError",
     "evalue": "No module named 'MoxScraper'",
     "output_type": "error",
     "traceback": [
      "\u001b[0;31m---------------------------------------------------------------------------\u001b[0m",
      "\u001b[0;31mModuleNotFoundError\u001b[0m                       Traceback (most recent call last)",
      "Cell \u001b[0;32mIn[5], line 1\u001b[0m\n\u001b[0;32m----> 1\u001b[0m \u001b[38;5;28;01mfrom\u001b[39;00m \u001b[38;5;21;01mMoxScraper\u001b[39;00m\u001b[38;5;21;01m.\u001b[39;00m\u001b[38;5;21;01mMoxScraper\u001b[39;00m \u001b[38;5;28;01mimport\u001b[39;00m MoxScraper\n\u001b[1;32m      2\u001b[0m \u001b[38;5;28;01mimport\u001b[39;00m \u001b[38;5;21;01mpandas\u001b[39;00m \u001b[38;5;28;01mas\u001b[39;00m \u001b[38;5;21;01mpd\u001b[39;00m\n\u001b[1;32m      4\u001b[0m scraper \u001b[38;5;241m=\u001b[39m MoxScraper()\n",
      "\u001b[0;31mModuleNotFoundError\u001b[0m: No module named 'MoxScraper'"
     ]
    }
   ],
   "source": [
    "from MoxScraper.MoxScraper import MoxScraper\n",
    "import pandas as pd\n",
    "\n",
    "scraper = MoxScraper()\n",
    "\n",
    "j = scraper.scrape_mox('Consider')\n",
    "\n",
    "df = pd.json_normalize(j)\n",
    "\n",
    "df.head()"
   ]
  },
  {
   "cell_type": "code",
   "execution_count": null,
   "metadata": {},
   "outputs": [
    {
     "data": {
      "text/plain": [
       "array(['Beach', 'Island Beach', 'Island', 'Mountain', 'Desert'],\n",
       "      dtype=object)"
      ]
     },
     "execution_count": 1,
     "metadata": {},
     "output_type": "execute_result"
    }
   ],
   "source": [
    "import pandas as pd\n",
    "\n",
    "items = [\n",
    "    {\"id\": 1, \"name\": \"Beach\"},\n",
    "    {\"id\": 4, \"name\": \"Island Beach\"},\n",
    "    {\"id\": 2, \"name\": \"Island\"},\n",
    "    {\"id\": 3, \"name\": \"Mountain\"},\n",
    "    {\"id\": 5, \"name\": \"Desert\"},\n",
    "    {\"id\": 6, \"name\": \"Desert\"},\n",
    "]\n",
    "\n",
    "df = pd.DataFrame(items)\n",
    "\n",
    "df['name'].unique().tolist()\n",
    "\n"
   ]
  },
  {
   "cell_type": "markdown",
   "metadata": {},
   "source": [
    "# Scryfall"
   ]
  },
  {
   "cell_type": "code",
   "execution_count": null,
   "metadata": {},
   "outputs": [],
   "source": [
    "from pprint import pprint\n",
    "from PIL import Image\n",
    "from io import BytesIO\n",
    "import requests\n",
    "from ProxyGenerator.Scryfall.Scryfall import Scryfall\n"
   ]
  },
  {
   "cell_type": "code",
   "execution_count": null,
   "metadata": {},
   "outputs": [],
   "source": [
    "scrfall = Scryfall()\n",
    "resp = scrfall.get_image(\"Llanowar Elves\", 'gnt')\n",
    "img_req=requests.get(resp)\n",
    "# pprint(resp)\n",
    "im = Image.open(BytesIO(img_req.content))\n",
    "im.show()"
   ]
  },
  {
   "cell_type": "markdown",
   "metadata": {},
   "source": [
    "# Proxy Generator"
   ]
  },
  {
   "cell_type": "code",
   "execution_count": 13,
   "metadata": {},
   "outputs": [],
   "source": [
    "from PIL import Image\n",
    "from io import BytesIO\n",
    "from PIL import Image\n",
    "import requests\n",
    "from ProxyGenerator.Scryfall.Scryfall import Scryfall\n",
    "from ProxyGenerator.ProxyGenerator import ProxyGenerator"
   ]
  },
  {
   "cell_type": "code",
   "execution_count": 30,
   "metadata": {},
   "outputs": [],
   "source": [
    "pg = ProxyGenerator()\n",
    "scrfall = Scryfall()\n",
    "\n",
    "card = scrfall.get_image(\"Llanowar Elves\", 'gnt')\n",
    "back = Image.open('./ProxyGenerator/data/proxy_back.png').resize((card.size[0], card.size[1]))\n",
    "\n",
    "\n",
    "# card.show()\n",
    "# back.show()\n",
    "# w = im1.size[0] + im2.size[0]\n",
    "# h = max(im1.size[1], im2.size[1])\n",
    "# im = Image.new(\"RGBA\", (w, h))\n",
    "\n",
    "h = card.size[1] + back.size[1]\n",
    "w = max(back.size[0], card.size[0])\n",
    "im = Image.new(\"RGBA\", (w, h))\n",
    "\n",
    "im.paste(card)\n",
    "im.paste(back.rotate(180), (0, card.size[1]))\n",
    "\n",
    "im.show()"
   ]
  }
 ],
 "metadata": {
  "kernelspec": {
   "display_name": ".venv",
   "language": "python",
   "name": "python3"
  },
  "language_info": {
   "codemirror_mode": {
    "name": "ipython",
    "version": 3
   },
   "file_extension": ".py",
   "mimetype": "text/x-python",
   "name": "python",
   "nbconvert_exporter": "python",
   "pygments_lexer": "ipython3",
   "version": "3.11.6"
  }
 },
 "nbformat": 4,
 "nbformat_minor": 2
}
